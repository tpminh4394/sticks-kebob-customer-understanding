{
 "cells": [
  {
   "cell_type": "markdown",
   "id": "f32b90b2-c2d8-45b1-ab45-bed84e44aa96",
   "metadata": {},
   "source": [
    "## Business problem summary:\n",
    "* They have 4 stores as of 2021. They want to scale up there businesses.\n",
    "* They need to know their customer bases to know where to setup location and how to position the brand\n",
    "* They dont want customers to do whay they used to but to expand their consumption to a broader ranges of items in the menu\n",
    "* They conduct survey to customer and non customer to gain customer understanding\n",
    "\n",
    "<img src=\"sticks.png\" alt=\"Alt Text\" width=\"300\" />"
   ]
  },
  {
   "cell_type": "code",
   "execution_count": null,
   "id": "86913abe-d4b8-49f3-90c7-49a0bbe44976",
   "metadata": {},
   "outputs": [],
   "source": []
  },
  {
   "cell_type": "code",
   "execution_count": null,
   "id": "1de993a5-902a-4acb-b177-3ad666249fb3",
   "metadata": {},
   "outputs": [],
   "source": []
  }
 ],
 "metadata": {
  "kernelspec": {
   "display_name": "Python 3 (ipykernel)",
   "language": "python",
   "name": "python3"
  },
  "language_info": {
   "codemirror_mode": {
    "name": "ipython",
    "version": 3
   },
   "file_extension": ".py",
   "mimetype": "text/x-python",
   "name": "python",
   "nbconvert_exporter": "python",
   "pygments_lexer": "ipython3",
   "version": "3.10.16"
  }
 },
 "nbformat": 4,
 "nbformat_minor": 5
}
